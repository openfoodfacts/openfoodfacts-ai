{
 "cells": [
  {
   "cell_type": "markdown",
   "metadata": {},
   "source": [
    "After extraction and conversion into a JSON file, it seems there are a lot of List of Ingredients that are actually unchanged.\n",
    "\n",
    "Let's calculate the proportion of change.\n",
    "\n",
    "Check `spellcheck/data/0_fr_data.json`"
   ]
  },
  {
   "cell_type": "code",
   "execution_count": 2,
   "metadata": {},
   "outputs": [
    {
     "name": "stdout",
     "output_type": "stream",
     "text": [
      "True\n"
     ]
    }
   ],
   "source": [
    "import json\n",
    "import os\n",
    "from pathlib import Path\n",
    "from typing import Mapping\n",
    "\n",
    "PATH = Path(os.path.realpath(\".\")).parent.parent /\"data/0_fr_data.json\"\n",
    "print(PATH.is_file())"
   ]
  },
  {
   "cell_type": "code",
   "execution_count": 3,
   "metadata": {},
   "outputs": [
    {
     "data": {
      "text/plain": [
       "[{'original': 'ail 85%, vinaigre de table, sel de cuisine, huile de colza. Teneur totale en sel de cuisine: 4.8%',\n",
       "  'reference': 'ail 85%, vinaigre de table, sel de cuisine, huile de colza. Teneur totale en sel de cuisine: 4,8%',\n",
       "  'lang': 'fr'},\n",
       " {'original': \"O Ingrédients/Ingrediënten Flocons d'avoine* 30%, chocolat au lait* 25% [sucre*, beurre de cacao*, poudre de lait entier&quot;, pâte de cacao&quot;, émulsifiant : lécithines (tournesol)&quot;], sucre Foux de canne“, graisse de palme* # 12%, farine de blé complet* 9%, sirop de sucre inverti*, poudre à lever: carbonates de sodium, sel, sirop de sucre brut&quot;, arôme naturel de vanille*. en &quot;biologique. Peut contenir des traces de fruits à coque, d'arachides, de graines de sésame et d'œuf. atert velle malknoodort cocaomassat emulgator: lecithinen (zonnebloem)*1, ruwe rietsuiker*,\",\n",
       "  'reference': \"Ingrédients/Ingrediënten : Flocons d'avoine* 30%, chocolat au lait* 25% [sucre*, beurre de cacao*, poudre de lait entier*, pâte de cacao*, émulsifiant : lécithine (tournesol)*], sucre roux de canne*, graisse de palme* 12%, farine de blé complet* 9%, sirop de sucre inverti*, poudre à lever: carbonates de sodium, sel, sirop de sucre brut*, arôme naturel de vanille*. En * biologique. Peut contenir des traces de fruits à coque, d'arachides, de graines de sésame et d'œuf.\",\n",
       "  'lang': 'fr'},\n",
       " {'original': \"semoule de blé dur réhydratée* 46%, poivrons verts * 8,5%, tomates* 8 huile de tournesol*! carottes* 8%, eau, oignons* raisins secs* (raisins*, huile de tournesol*) vinaigre d'alcool*, huile d olive vierge extra*, menthe* 1,5%, sel, moutarde de Dijon* (graines de moutarde*, vinaigre d'alcool*, eau, sel), jus de citron concentré* 0,4%, mélange d'epices et de plantes aromatiques*, farine de riz*, épaississant : omme xanthane. * ngrédients issus de l'agriculture biologique. Traces éventuelles de céleri, soja et fruits à coque. Informations en gras destinées aux personnes allergiques.\",\n",
       "  'reference': \"semoule de blé dur réhydratée* 46%, poivrons verts * 8,5%, tomates* 8 huile de tournesol*, carottes* 8%, eau, oignons*, raisins secs* (raisins*, huile de tournesol*), vinaigre d'alcool*, huile d'olive vierge extra*, menthe* 1,5%, sel, moutarde de Dijon* (graines de moutarde*, vinaigre d'alcool*, eau, sel), jus de citron concentré* 0,4%, mélange d'épices et de plantes aromatiques*, farine de riz*, épaississant : gomme xanthane. *Ingrédients issus de l'agriculture biologique. Traces éventuelles de céleri, soja et fruits à coque. Informations en gras destinées aux personnes allergiques.\",\n",
       "  'lang': 'fr'}]"
      ]
     },
     "execution_count": 3,
     "metadata": {},
     "output_type": "execute_result"
    }
   ],
   "source": [
    "with open(PATH, \"r\") as f:\n",
    "    elements = json.load(f)[\"data\"]\n",
    "elements[:3]"
   ]
  },
  {
   "cell_type": "code",
   "execution_count": 4,
   "metadata": {},
   "outputs": [
    {
     "data": {
      "text/plain": [
       "0.5610687022900763"
      ]
     },
     "execution_count": 4,
     "metadata": {},
     "output_type": "execute_result"
    }
   ],
   "source": [
    "# % difference before and after\n",
    "count = 0\n",
    "for element in elements:\n",
    "    if element[\"original\"] != element[\"reference\"]:\n",
    "        count += 1\n",
    "coeff = count / len(elements)\n",
    "coeff"
   ]
  },
  {
   "cell_type": "markdown",
   "metadata": {},
   "source": [
    "As we can see, ~ half of the data is actually identical.\n",
    "Let's remove those elements!"
   ]
  },
  {
   "cell_type": "code",
   "execution_count": 15,
   "metadata": {},
   "outputs": [],
   "source": [
    "def remove_duplicates(path: Path) -> Mapping:\n",
    "    with open(path, \"r\") as f:\n",
    "        data = json.load(f)\n",
    "    elements = data[\"data\"]\n",
    "    print(f\"Size before removing duplicates {len(elements)}\")\n",
    "    data[\"data\"] = [element for element in elements if element[\"original\"] != element[\"reference\"]]\n",
    "    print(f\"Size after removing duplicates {len(data['data'])}\")\n",
    "    return data"
   ]
  },
  {
   "cell_type": "code",
   "execution_count": 16,
   "metadata": {},
   "outputs": [
    {
     "name": "stdout",
     "output_type": "stream",
     "text": [
      "Size before removing duplicates 786\n",
      "Size after removing duplicates 441\n"
     ]
    }
   ],
   "source": [
    "data = remove_duplicates(PATH)"
   ]
  },
  {
   "cell_type": "code",
   "execution_count": 18,
   "metadata": {},
   "outputs": [],
   "source": [
    "# Save\n",
    "output_path = PATH.parent / \"1_old_fr_no_duplicate_data.json\"\n",
    "with open(output_path, \"w\") as f:\n",
    "    json.dump(data, f, indent=2, ensure_ascii=False)"
   ]
  }
 ],
 "metadata": {
  "kernelspec": {
   "display_name": "off",
   "language": "python",
   "name": "python3"
  },
  "language_info": {
   "codemirror_mode": {
    "name": "ipython",
    "version": 3
   },
   "file_extension": ".py",
   "mimetype": "text/x-python",
   "name": "python",
   "nbconvert_exporter": "python",
   "pygments_lexer": "ipython3",
   "version": "3.9.19"
  }
 },
 "nbformat": 4,
 "nbformat_minor": 2
}
